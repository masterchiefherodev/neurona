{
 "cells": [
  {
   "cell_type": "code",
   "execution_count": null,
   "id": "2311fb48",
   "metadata": {},
   "outputs": [],
   "source": [
    "from keras.models import Sequential\n",
    "import numpy as np\n",
    "from keras.layers.core import Dense\n",
    "import tensorflow as tf\n",
    "from sklearn.metrics import confusion_matrix\n",
    "import pandas as pd\n",
    "tf.compat.v1.logging.set_verbosity(tf.compat.v1.logging.ERROR)"
   ]
  },
  {
   "cell_type": "code",
   "execution_count": null,
   "id": "e14e3b5e",
   "metadata": {},
   "outputs": [],
   "source": [
    "conjunto_datos = pd.read_csv('entrenar.txt', header=None, sep=' ')\n",
    "datos_entrada = conjunto_datos.iloc[:,0:3].values\n",
    "datos_salida = conjunto_datos.iloc[:,3:4].values"
   ]
  },
  {
   "cell_type": "code",
   "execution_count": null,
   "id": "bdb7f67c",
   "metadata": {},
   "outputs": [],
   "source": [
    "modelo = Sequential()\n",
    "modelo.add(Dense(2, input_dim = 3,activation ='relu'))\n",
    "modelo.add(Dense(1, activation = 'sigmoid'))\n",
    "modelo.compile(loss = 'mean_squared_error', optimizer = 'adam', metrics = ['binary_accuracy'])\n",
    "modelo.fit(datos_entrada, datos_salida, epochs = 1000)"
   ]
  },
  {
   "cell_type": "code",
   "execution_count": null,
   "id": "38180575",
   "metadata": {},
   "outputs": [],
   "source": [
    "p,b = modelo.layers[0].get_weights()\n",
    "p2,b2 = modelo.layers[1].get_weights()\n",
    "print(p, b)\n",
    "#x = [0, 102, 0]\n",
    "x = [0, 0, 0]\n",
    "h1 = max(tf.keras.activations.relu(x[0]*p[0][0] + x[1]*p[1][0] + x[2]*p[2][0] + b[0]),0).numpy()\n",
    "h2 = max(tf.keras.activations.relu(x[0]*p[0][1] + x[1]*p[1][1] + x[2]*p[2][1] + b[1]),0).numpy()\n",
    "y = tf.keras.activations.sigmoid(h1*p2[0] + h2*p2[1] + b2[0]).numpy()\n",
    "print(y)\n",
    "print(y.round())\n",
    "datos = modelo.evaluate(datos_entrada, datos_salida)\n",
    "print(\"\\n%s: %.2f%%\" %(modelo.metrics[1], datos[1]*100))\n",
    "y_pred = modelo.predict(datos_entrada).round()\n",
    "print(y_pred)\n",
    "y_pred = (y_pred >=.5)\n",
    "cm = confusion_matrix(datos_salida, y_pred)\n",
    "print(cm)"
   ]
  }
 ],
 "metadata": {
  "kernelspec": {
   "display_name": "Python 3 (ipykernel)",
   "language": "python",
   "name": "python3"
  },
  "language_info": {
   "codemirror_mode": {
    "name": "ipython",
    "version": 3
   },
   "file_extension": ".py",
   "mimetype": "text/x-python",
   "name": "python",
   "nbconvert_exporter": "python",
   "pygments_lexer": "ipython3",
   "version": "3.10.8"
  }
 },
 "nbformat": 4,
 "nbformat_minor": 5
}
